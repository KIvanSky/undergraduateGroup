{
 "cells": [
  {
   "cell_type": "markdown",
   "metadata": {},
   "source": [
    "## 目录导航栏"
   ]
  },
  {
   "cell_type": "markdown",
   "metadata": {},
   "source": [
    "+ [仇剑昆](http://120.79.65.52:8888/tree/pythonPractice/qjk)\n",
    "+ [周帅](http://120.79.65.52:8888/tree/pythonPractice/zs)\n",
    "+ [晏栎钧](http://120.79.65.52:8888/tree/pythonPractice/ylj)\n",
    "+ [李尧](http://120.79.65.52:8888/tree/pythonPractice/ly)\n",
    "+ [陈婕](http://120.79.65.52:8888/tree/pythonPractice/cj)\n",
    "+ [江琨](http://120.79.65.52:8888/tree/pythonPractice/jk)\n",
    "+ [徐亦盛](http://120.79.65.52:8888/tree/pythonPractice/xys)\n",
    "+ [徐向飞](http://120.79.65.52:8888/tree/pythonPractice/xxf)\n",
    "+ [李沛迪](http://120.79.65.52:8888/tree/pythonPractice/lpd)\n",
    "+ [薛至言](http://120.79.65.52:8888/tree/pythonPractice/xzy)"
   ]
  },
  {
   "cell_type": "markdown",
   "metadata": {},
   "source": [
    "+ [返回上级目录](http://120.79.65.52:8888/notebooks/content.ipynb)"
   ]
  }
 ],
 "metadata": {
  "kernelspec": {
   "display_name": "Python 3",
   "language": "python",
   "name": "python3"
  },
  "language_info": {
   "codemirror_mode": {
    "name": "ipython",
    "version": 3
   },
   "file_extension": ".py",
   "mimetype": "text/x-python",
   "name": "python",
   "nbconvert_exporter": "python",
   "pygments_lexer": "ipython3",
   "version": "3.7.1"
  }
 },
 "nbformat": 4,
 "nbformat_minor": 2
}
