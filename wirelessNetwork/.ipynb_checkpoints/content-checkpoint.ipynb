{
 "cells": [
  {
   "cell_type": "markdown",
   "metadata": {},
   "source": [
    "## 目录导航栏"
   ]
  },
  {
   "cell_type": "markdown",
   "metadata": {},
   "source": [
    "+ [参考资料](http://120.79.65.52:8888/tree/wirelessNetwork/reference/content.ipynb)\n",
    "+ [PPT](http://120.79.65.52:8888/tree/wirelessNetwork/PPT/content.ipynb)\n",
    "+ [代码](http://120.79.65.52:8888/tree/wirelessNetwork/code/content.ipynb)"
   ]
  },
  {
   "cell_type": "markdown",
   "metadata": {},
   "source": [
    "+ [返回上级目录](http://120.79.65.52:8888/notebooks/content.ipynb)"
   ]
  }
 ],
 "metadata": {
  "kernelspec": {
   "display_name": "Python 3",
   "language": "python",
   "name": "python3"
  },
  "language_info": {
   "codemirror_mode": {
    "name": "ipython",
    "version": 3
   },
   "file_extension": ".py",
   "mimetype": "text/x-python",
   "name": "python",
   "nbconvert_exporter": "python",
   "pygments_lexer": "ipython3",
   "version": "3.7.1"
  }
 },
 "nbformat": 4,
 "nbformat_minor": 2
}
