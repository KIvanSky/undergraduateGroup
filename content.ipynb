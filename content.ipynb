{
 "cells": [
  {
   "cell_type": "markdown",
   "metadata": {},
   "source": [
    "## 目录导航栏"
   ]
  },
  {
   "cell_type": "markdown",
   "metadata": {},
   "source": [
    "+ [强化学习](http://120.79.65.52:8888/notebooks/reinforcementLearning/content.ipynb) \n",
    "+ [博弈论](http://120.79.65.52:8888/tree/gameTheory/content.ipynb) \n",
    "+ [无线网络](http://120.79.65.52:8888/tree/wirelessNetwork/content.ipynb) \n",
    "+ [python练习](http://120.79.65.52:8888/tree/pythonPractice/content.ipynb) "
   ]
  },
  {
   "cell_type": "markdown",
   "metadata": {},
   "source": [
    "## 上传文件"
   ]
  },
  {
   "cell_type": "markdown",
   "metadata": {},
   "source": [
    "在所需上传文件的目录下，点击右上角**Upload**按钮即可上传。"
   ]
  },
  {
   "cell_type": "markdown",
   "metadata": {},
   "source": [
    "![upload](img/upload.png)"
   ]
  },
  {
   "cell_type": "markdown",
   "metadata": {},
   "source": [
    "**注意**:所要上传的文件名要为英文"
   ]
  },
  {
   "cell_type": "markdown",
   "metadata": {},
   "source": [
    "## 下载文件"
   ]
  },
  {
   "cell_type": "markdown",
   "metadata": {},
   "source": [
    "勾选所需下载文件前的小方框，点击左上方**Download**按钮。"
   ]
  },
  {
   "cell_type": "markdown",
   "metadata": {},
   "source": [
    "![download](img/download.png)"
   ]
  },
  {
   "cell_type": "markdown",
   "metadata": {},
   "source": [
    "**注意**：如果文件还在运行状态（绿色），则需要先点击**Shutdown**按钮，再重复上述操作。"
   ]
  },
  {
   "cell_type": "markdown",
   "metadata": {},
   "source": [
    "![shutdown](img/shutdown.png)"
   ]
  },
  {
   "cell_type": "markdown",
   "metadata": {},
   "source": [
    "## 数据备份"
   ]
  },
  {
   "cell_type": "markdown",
   "metadata": {},
   "source": [
    "所有数据自动推送到github上，每两天更新一次。若发现自己的数据丢失，请及时访问[github](https://github.com/KIvanSky/undergraduateGroup)网址找回数据。"
   ]
  },
  {
   "cell_type": "markdown",
   "metadata": {},
   "source": [
    "## 注意事项"
   ]
  },
  {
   "cell_type": "markdown",
   "metadata": {},
   "source": [
    "+ 不要删除自己以外的文件夹\n",
    "+ 不要更改或重新运行目录导航页面"
   ]
  },
  {
   "cell_type": "markdown",
   "metadata": {},
   "source": [
    "## python包列表"
   ]
  },
  {
   "cell_type": "markdown",
   "metadata": {},
   "source": [
    "该服务器可以跑CPU版的神经网络框架，但没有GPU。"
   ]
  },
  {
   "cell_type": "markdown",
   "metadata": {},
   "source": [
    "Package              Version   \n",
    "-------------------- ----------\n",
    "absl-py              0.7.1     \n",
    "asn1crypto           0.24.0    \n",
    "astor                0.7.1     \n",
    "backcall             0.1.0     \n",
    "bleach               3.0.2     \n",
    "certifi              2018.11.29\n",
    "cffi                 1.11.5    \n",
    "chardet              3.0.4     \n",
    "conda                4.5.12    \n",
    "cryptography         2.4.2     \n",
    "cycler               0.10.0    \n",
    "Cython               0.29.7    \n",
    "decorator            4.3.0     \n",
    "entrypoints          0.2.3     \n",
    "gast                 0.2.2     \n",
    "grpcio               1.19.0    \n",
    "h5py                 2.8.0     \n",
    "idna                 2.8       \n",
    "ipykernel            5.1.0     \n",
    "ipython              7.2.0     \n",
    "ipython-genutils     0.2.0     \n",
    "ipywidgets           7.4.2     \n",
    "jedi                 0.13.2    \n",
    "Jinja2               2.10      \n",
    "jsonschema           2.6.0     \n",
    "jupyter              1.0.0     \n",
    "jupyter-client       5.2.4     \n",
    "jupyter-console      6.0.0     \n",
    "jupyter-core         4.4.0     \n",
    "Keras-Applications   1.0.7     \n",
    "Keras-Preprocessing  1.0.9     \n",
    "kiwisolver           1.0.1     \n",
    "Markdown             3.0.1     \n",
    "MarkupSafe           1.1.0     \n",
    "matplotlib           3.0.2     \n",
    "mistune              0.8.4     \n",
    "mkl-fft              1.0.6     \n",
    "mkl-random           1.0.2     \n",
    "mock                 2.0.0     \n",
    "nbconvert            5.3.1     \n",
    "nbformat             4.4.0     \n",
    "notebook             5.7.4     \n",
    "numpy                1.16.1    \n",
    "olefile              0.46      \n",
    "pandas               0.23.4    \n",
    "pandocfilters        1.4.2     \n",
    "parso                0.3.1     \n",
    "patsy                0.5.1     \n",
    "pbr                  5.1.3     \n",
    "pexpect              4.6.0     \n",
    "pickleshare          0.7.5     \n",
    "Pillow               5.3.0     \n",
    "pip                  18.1      \n",
    "pmdarima             1.2.0     \n",
    "prometheus-client    0.5.0     \n",
    "prompt-toolkit       2.0.7     \n",
    "protobuf             3.7.0     \n",
    "ptyprocess           0.6.0     \n",
    "pycosat              0.6.3     \n",
    "pycparser            2.19      \n",
    "pydot                1.3.0     \n",
    "Pygments             2.3.1     \n",
    "pyOpenSSL            18.0.0    \n",
    "pyparsing            2.3.0     \n",
    "PySocks              1.6.8     \n",
    "python-dateutil      2.7.5     \n",
    "pytz                 2018.7    \n",
    "pyzmq                17.1.2    \n",
    "qtconsole            4.4.3     \n",
    "requests             2.21.0    \n",
    "ruamel-yaml          0.15.46   \n",
    "scikit-learn         0.20.2    \n",
    "scipy                1.2.1     \n",
    "Send2Trash           1.5.0     \n",
    "setuptools           40.6.3    \n",
    "six                  1.12.0    \n",
    "statsmodels          0.9.0     \n",
    "tensorboard          1.13.1    \n",
    "tensorboardX         1.6       \n",
    "tensorflow           1.13.1    \n",
    "tensorflow-estimator 1.13.0    \n",
    "termcolor            1.1.0     \n",
    "terminado            0.8.1     \n",
    "testpath             0.4.2     \n",
    "torch                1.0.0     \n",
    "torchvision          0.2.1     \n",
    "tornado              5.1.1     \n",
    "traitlets            4.3.2     \n",
    "urllib3              1.24.1    \n",
    "wcwidth              0.1.7     \n",
    "webencodings         0.5.1     \n",
    "Werkzeug             0.15.1    \n",
    "wheel                0.32.3    \n",
    "widgetsnbextension   3.4.2  "
   ]
  }
 ],
 "metadata": {
  "kernelspec": {
   "display_name": "Python 3",
   "language": "python",
   "name": "python3"
  },
  "language_info": {
   "codemirror_mode": {
    "name": "ipython",
    "version": 3
   },
   "file_extension": ".py",
   "mimetype": "text/x-python",
   "name": "python",
   "nbconvert_exporter": "python",
   "pygments_lexer": "ipython3",
   "version": "3.7.1"
  }
 },
 "nbformat": 4,
 "nbformat_minor": 2
}
